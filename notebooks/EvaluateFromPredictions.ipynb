{
 "cells": [
  {
   "cell_type": "code",
   "execution_count": null,
   "id": "245b326b",
   "metadata": {},
   "outputs": [],
   "source": [
    "import sys\n",
    "sys.path.append('../src/')  # Replace with your actual path\n",
    "from train import str2bool, set_seed, parse_config, get_predictions, get_attention, get_embedding\n",
    "\n",
    "import json\n",
    "\n",
    "import datetime\n",
    "import os\n",
    "import pickle as pkl\n",
    "import random\n",
    "\n",
    "import numpy as np\n",
    "import pandas as pd\n",
    "import pytorch_lightning as pl\n",
    "import torch\n",
    "from presage_datamodule import ReploglePRESAGEDataModule\n",
    "from evaluator import Evaluator"
   ]
  },
  {
   "cell_type": "code",
   "execution_count": null,
   "id": "8f6d0d35",
   "metadata": {},
   "outputs": [],
   "source": [
    "dataset=\"replogle_k562_essential_unfiltered\"\n",
    "seed=\"seed_0\"\n",
    "\n",
    "default_config_file = \"../configs/defaults_config.json\"\n",
    "singles_config_file = \"../configs/singles_config.json\"\n",
    "ds_config_file = f\"../configs/{dataset}_config.json\"\n",
    "\n",
    "# Load the default config\n",
    "with open(default_config_file, \"r\") as f:\n",
    "    config = json.load(f)\n",
    "with open(singles_config_file,\"r\") as f:\n",
    "    singles_config = json.load(f)\n",
    "with open(ds_config_file,\"r\") as f:\n",
    "    ds_config = json.load(f)\n",
    "\n",
    "singles_config.update(singles_config)\n",
    "singles_config.update(ds_config)\n",
    "\n",
    "new_config = {}\n",
    "for key, value in singles_config.items():\n",
    "    if value is not None and key not in {\"config\", \"data_config\"}:\n",
    "        new_config[key.replace(\"_\", \".\", 1)] = value\n",
    "singles_config = new_config\n",
    "config.update(singles_config)"
   ]
  },
  {
   "cell_type": "code",
   "execution_count": null,
   "id": "3165e6bc",
   "metadata": {},
   "outputs": [],
   "source": [
    "# set training.eval_test to True to run all eval\n",
    "modify_config = {\"training.eval_test\":True,\n",
    "\"model.pathway_files\": \"../sample_files/prior_files/sample.knowledge_experimental.txt\",\n",
    "\"data.data_dir\":\"../data/\",}\n",
    "\n",
    "config.update(modify_config)"
   ]
  },
  {
   "cell_type": "code",
   "execution_count": null,
   "id": "58c6d796",
   "metadata": {},
   "outputs": [],
   "source": [
    "config = parse_config(config)\n",
    "\n",
    "set_seed(config[\"training\"].pop(\"seed\", None))\n",
    "\n",
    "offline = config[\"training\"].pop(\"offline\", False)\n",
    "do_test_eval = config[\"training\"].pop(\"eval_test\", True)"
   ]
  },
  {
   "cell_type": "code",
   "execution_count": null,
   "id": "71f24caa",
   "metadata": {},
   "outputs": [],
   "source": [
    "config['data']['dataset'] = dataset\n",
    "\n",
    "config['data']['seed'] = f\"../splits/{dataset}_random_splits/{seed}.json\"\n",
    "seed = config[\"data\"].pop(\"seed\")\n",
    "datamodule = ReploglePRESAGEDataModule.from_config(config[\"data\"])\n",
    "datamodule.do_test_eval = do_test_eval\n",
    "\n",
    "if hasattr(datamodule, \"set_seed\"):\n",
    "    datamodule.set_seed(seed)\n",
    "config[\"data\"][\"seed\"] = seed"
   ]
  },
  {
   "cell_type": "code",
   "execution_count": null,
   "id": "b3e78ead",
   "metadata": {},
   "outputs": [],
   "source": [
    "datamodule.prepare_data()\n",
    "datamodule.setup(\"fit\")\n",
    "datamodule.setup(\"test\")\n",
    "datamodule._data_setup = False"
   ]
  },
  {
   "cell_type": "code",
   "execution_count": null,
   "id": "e82307c0",
   "metadata": {},
   "outputs": [],
   "source": [
    "predictions_file = config[\"training\"].pop(\"predictions_file\", None)\n",
    "mean_preds = pd.read_csv(predictions_file,index_col=0)"
   ]
  },
  {
   "cell_type": "code",
   "execution_count": null,
   "id": "9998ddd8",
   "metadata": {},
   "outputs": [],
   "source": [
    "mean_preds"
   ]
  },
  {
   "cell_type": "code",
   "execution_count": null,
   "id": "0c5a1c5b",
   "metadata": {},
   "outputs": [],
   "source": [
    "train_adata = datamodule.train_dataset.adata\n",
    "\n",
    "ctrl_cells = train_adata[\n",
    "    train_adata.obs.loc[:, datamodule.perturb_field] == datamodule.control_key\n",
    "]\n",
    "train_keys = datamodule.splits[\"train\"]\n",
    "\n",
    "adata = datamodule.load_preprocessed()\n",
    "adata.X = adata.X - np.mean(ctrl_cells.X, axis=0)\n",
    "\n",
    "\n",
    "\n",
    "evaluator = Evaluator(\n",
    "    datamodule.var_names,\n",
    "    datamodule.degs,\n",
    "    ctrl_cells,\n",
    "    train_keys,\n",
    "    adata,\n",
    "    geneset_file=datamodule.gs_file,\n",
    "    perturbation_cluster_file=datamodule.pclust_file,\n",
    "    ncells_per_perturbation_file=datamodule.ncells_per_perturbation_file,\n",
    "    dataset=datamodule.dataset,\n",
    "    seed=datamodule.seed,\n",
    ")"
   ]
  },
  {
   "cell_type": "code",
   "execution_count": null,
   "id": "0bb06f49",
   "metadata": {},
   "outputs": [],
   "source": [
    "grouped = [tup for tup in adata.obs.groupby(datamodule.perturb_field)]\n",
    "tgt_inds = [tup[0] for tup in grouped]\n",
    "mean_tgts = pd.DataFrame([adata[tup[1].index].X.mean(axis=0) for tup in grouped], index=tgt_inds, columns=adata.var_names)"
   ]
  },
  {
   "cell_type": "code",
   "execution_count": null,
   "id": "174264ec",
   "metadata": {
    "scrolled": true
   },
   "outputs": [],
   "source": [
    "mean_tgts = mean_tgts.loc[mean_preds.index,:]"
   ]
  },
  {
   "cell_type": "code",
   "execution_count": null,
   "id": "335974dc",
   "metadata": {},
   "outputs": [],
   "source": [
    "# Find missing genes by comparing datamodule.var_names to existing columns in mean_preds \n",
    "missing_genes = datamodule.var_names[np.isin(datamodule.var_names, mean_preds.columns, invert=True)]\n",
    "mean_preds = pd.concat([mean_preds, pd.DataFrame(0, index=mean_preds.index, columns=missing_genes)], axis=1)"
   ]
  },
  {
   "cell_type": "code",
   "execution_count": null,
   "id": "aeef9d73",
   "metadata": {},
   "outputs": [],
   "source": [
    "mean_preds = mean_preds.loc[:,datamodule.var_names]\n",
    "mean_tgts = mean_tgts.loc[:,datamodule.var_names]"
   ]
  },
  {
   "cell_type": "code",
   "execution_count": null,
   "id": "d1cc2343",
   "metadata": {
    "scrolled": true
   },
   "outputs": [],
   "source": [
    "temp = evaluator(mean_tgts.index.values.ravel(), mean_tgts.values, mean_preds.values, \"True\")"
   ]
  },
  {
   "cell_type": "code",
   "execution_count": null,
   "id": "dad9b965",
   "metadata": {},
   "outputs": [],
   "source": [
    "# dataframe with eval metrics\n",
    "eval_df = evaluator.eval_dfs\n",
    "eval_df['split'] = seed.split(\"/\")[-1].split(\".json\")[0]"
   ]
  },
  {
   "cell_type": "code",
   "execution_count": null,
   "id": "9b13d9aa",
   "metadata": {},
   "outputs": [],
   "source": [
    "# perturbations with statistical effect from the mean\n",
    "perturbations_with_effect = evaluator.perturbations_with_effect\n",
    "\n",
    "# evaluation metrics for individual perturbations\n",
    "single_perturbation_predictions = evaluator.all_single_evals\n",
    "\n",
    "# perturbations with significant effect on gene sets at different MAD levels\n",
    "virtual_screen_enriched_perts = evaluator.ground_truth_virtual_screen_perts"
   ]
  },
  {
   "cell_type": "code",
   "execution_count": null,
   "id": "b077e5b9",
   "metadata": {},
   "outputs": [],
   "source": [
    "eval_df"
   ]
  }
 ],
 "metadata": {
  "kernelspec": {
   "display_name": "Python 3 (ipykernel)",
   "language": "python",
   "name": "python3"
  },
  "language_info": {
   "codemirror_mode": {
    "name": "ipython",
    "version": 3
   },
   "file_extension": ".py",
   "mimetype": "text/x-python",
   "name": "python",
   "nbconvert_exporter": "python",
   "pygments_lexer": "ipython3",
   "version": "3.11.12"
  }
 },
 "nbformat": 4,
 "nbformat_minor": 5
}
