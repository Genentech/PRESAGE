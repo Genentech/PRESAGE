{
 "cells": [
  {
   "cell_type": "markdown",
   "id": "a170e96b-6223-436e-ba56-841e7c13148a",
   "metadata": {},
   "source": [
    "# Setup"
   ]
  },
  {
   "cell_type": "code",
   "execution_count": null,
   "id": "39106a56",
   "metadata": {},
   "outputs": [],
   "source": [
    "import sys\n",
    "sys.path.append('../src/')  # Replace with your actual path\n",
    "from train import str2bool, set_seed, parse_config, get_predictions, get_attention, get_embedding\n",
    "\n",
    "import json\n",
    "\n",
    "import datetime\n",
    "import os\n",
    "import pickle as pkl\n",
    "import random\n",
    "\n",
    "import numpy as np\n",
    "import pandas as pd\n",
    "import pytorch_lightning as pl\n",
    "import torch\n",
    "from pytorch_lightning.callbacks import ModelCheckpoint\n",
    "from pytorch_lightning.callbacks.early_stopping import EarlyStopping\n",
    "\n",
    "#from datamodule import  ReplogleDataModule\n",
    "from presage_datamodule import ReploglePRESAGEDataModule\n",
    "from model_harness import ModelHarness\n",
    "from presage import PRESAGE\n"
   ]
  },
  {
   "cell_type": "code",
   "execution_count": null,
   "id": "1b73e716",
   "metadata": {},
   "outputs": [],
   "source": [
    "dataset=\"replogle_k562_essential_unfiltered\"\n",
    "seed=\"seed_0\"\n",
    "\n",
    "default_config_file = \"../configs/defaults_config.json\"\n",
    "singles_config_file = \"../configs/singles_config.json\"\n",
    "ds_config_file = f\"../configs/{dataset}_config.json\"\n",
    "\n",
    "# Load the default config\n",
    "with open(default_config_file, \"r\") as f:\n",
    "    config = json.load(f)\n",
    "with open(singles_config_file,\"r\") as f:\n",
    "    singles_config = json.load(f)\n",
    "with open(ds_config_file,\"r\") as f:\n",
    "    ds_config = json.load(f)\n",
    "\n",
    "singles_config.update(singles_config)\n",
    "singles_config.update(ds_config)\n",
    "\n",
    "new_config = {}\n",
    "for key, value in singles_config.items():\n",
    "    if value is not None and key not in {\"config\", \"data_config\"}:\n",
    "        new_config[key.replace(\"_\", \".\", 1)] = value\n",
    "singles_config = new_config\n",
    "config.update(singles_config)"
   ]
  },
  {
   "cell_type": "code",
   "execution_count": null,
   "id": "ff9f5db1",
   "metadata": {},
   "outputs": [],
   "source": [
    "modify_config = {\"training.eval_test\":False,\n",
    "\"model.pathway_files\": \"../sample_files/prior_files/sample.knowledge_experimental.txt\",\n",
    "\"data.data_dir\":\"../data/\",}\n",
    "\n",
    "config.update(modify_config)"
   ]
  },
  {
   "cell_type": "code",
   "execution_count": null,
   "id": "2d76244a",
   "metadata": {},
   "outputs": [],
   "source": [
    "config = parse_config(config)\n",
    "\n",
    "set_seed(config[\"training\"].pop(\"seed\", None))\n",
    "\n",
    "offline = config[\"training\"].pop(\"offline\", False)\n",
    "do_test_eval = config[\"training\"].pop(\"eval_test\", True)"
   ]
  },
  {
   "cell_type": "code",
   "execution_count": null,
   "id": "eb685b4f",
   "metadata": {},
   "outputs": [],
   "source": [
    "predictions_file = config[\"training\"].pop(\"predictions_file\", None)\n",
    "embedding_pref = config[\"training\"].pop(\"embedding_file\", None)\n",
    "attention_file = config[\"training\"].pop(\"attention_file\", None)\n"
   ]
  },
  {
   "cell_type": "markdown",
   "id": "f059f752",
   "metadata": {},
   "source": [
    "# Initialize the data module"
   ]
  },
  {
   "cell_type": "code",
   "execution_count": null,
   "id": "d3b82d3b",
   "metadata": {},
   "outputs": [],
   "source": [
    "config['data']['dataset'] = dataset\n",
    "\n",
    "\n",
    "config['data']['seed'] = f\"../splits/{dataset}_random_splits/{seed}.json\"\n"
   ]
  },
  {
   "cell_type": "code",
   "execution_count": null,
   "id": "94b6a311",
   "metadata": {},
   "outputs": [],
   "source": [
    "seed = config[\"data\"].pop(\"seed\")\n",
    "datamodule = ReploglePRESAGEDataModule.from_config(config[\"data\"])\n",
    "datamodule.do_test_eval = do_test_eval\n",
    "\n",
    "if hasattr(datamodule, \"set_seed\"):\n",
    "    datamodule.set_seed(seed)\n",
    "config[\"data\"][\"seed\"] = seed"
   ]
  },
  {
   "cell_type": "markdown",
   "id": "eda6072d",
   "metadata": {},
   "source": [
    "# Prepare Datamodule"
   ]
  },
  {
   "cell_type": "code",
   "execution_count": null,
   "id": "aee55b16",
   "metadata": {},
   "outputs": [],
   "source": [
    "datamodule.prepare_data()\n",
    "\n",
    "datamodule.setup(\"fit\")\n",
    "\n",
    "print(\"datamodule setup complete.\")"
   ]
  },
  {
   "cell_type": "markdown",
   "id": "bcc57e7e",
   "metadata": {},
   "source": [
    "# Initialize PRESAGE"
   ]
  },
  {
   "cell_type": "code",
   "execution_count": null,
   "id": "01a970dd",
   "metadata": {},
   "outputs": [],
   "source": [
    "# initialize model\n",
    "model_config = config[\"model\"]\n",
    "model_config[\"dataset\"] = dataset\n",
    "\n",
    "# legacy unused parameters\n",
    "model_config['pca_dim'] = None\n",
    "model_config['source'] = 'temp'\n",
    "model_config['learnable_gene_embedding'] = False\n",
    "\n",
    "module = PRESAGE(\n",
    "    model_config,\n",
    "    datamodule,\n",
    "    datamodule.pert_covariates.shape[1],\n",
    "    datamodule.n_genes,\n",
    "    # latent_dim or datamodule.n_genes,\n",
    ")\n",
    "\n",
    "if hasattr(module, \"custom_init\"):\n",
    "    module.custom_init()\n"
   ]
  },
  {
   "cell_type": "markdown",
   "id": "596e0642",
   "metadata": {},
   "source": [
    "# Set up model training"
   ]
  },
  {
   "cell_type": "code",
   "execution_count": null,
   "id": "cbb001c3",
   "metadata": {},
   "outputs": [],
   "source": [
    "lightning_module = ModelHarness(\n",
    "    module,\n",
    "    datamodule,\n",
    "    model_config,\n",
    ")\n",
    "\n",
    "print(\"model initialization complete.\")\n",
    "\n",
    "# run trainer\n",
    "logger = pl.loggers.CSVLogger(\n",
    "    save_dir=\"./logs\",\n",
    "    name=dataset,\n",
    "    version=seed.split('/')[-1].split('.json')[0]\n",
    ")\n",
    "\n",
    "if predictions_file == \"None\":\n",
    "    predictions_file = None\n",
    "\n",
    "early_stop_callback = EarlyStopping(\n",
    "    monitor=\"val_loss\",\n",
    "    min_delta=1e-6,\n",
    "    patience=10,\n",
    "    verbose=True,\n",
    "    mode=\"min\",\n",
    ")\n",
    "\n",
    "# Get current date and time\n",
    "now = datetime.datetime.now()\n",
    "\n",
    "# Format the date and time\n",
    "now_str = now.strftime(\"%Y-%m-%d-%H-%M-%S\")\n",
    "\n",
    "checkpoint_callback = ModelCheckpoint(\n",
    "    monitor=\"val_loss\",\n",
    "    dirpath=\"./saved_models\",\n",
    "    filename=f\"my_model-{dataset}-{seed.split('/')[-1].split('.json')[0]}-{now_str}-{{epoch:02d}}-{{val_loss:.2f}}\",\n",
    "    save_top_k=1,\n",
    "    mode=\"min\",\n",
    ")\n",
    "torch.autograd.set_detect_anomaly(True)\n",
    "trainer = pl.Trainer(\n",
    "    logger=logger,\n",
    "    log_every_n_steps=3,\n",
    "    num_sanity_val_steps=10,\n",
    "    callbacks=[early_stop_callback, checkpoint_callback],\n",
    "    reload_dataloaders_every_n_epochs=1,\n",
    "    **config[\"training\"],\n",
    "    gradient_clip_val=0.1,\n",
    ")"
   ]
  },
  {
   "cell_type": "markdown",
   "id": "d464c901",
   "metadata": {},
   "source": [
    "# Fit PRESAGE and retain the best model"
   ]
  },
  {
   "cell_type": "code",
   "execution_count": null,
   "id": "27306069",
   "metadata": {
    "scrolled": true
   },
   "outputs": [],
   "source": [
    "trainer.fit(lightning_module, datamodule=datamodule)\n",
    "# lightning_module is the pytorch lighting, datamodule from datamodule.py\n",
    "# Get the best model path\n",
    "best_model_path = checkpoint_callback.best_model_path"
   ]
  },
  {
   "cell_type": "markdown",
   "id": "259b79e3",
   "metadata": {},
   "source": [
    "# set up data module and run test set through trained PRESAGE"
   ]
  },
  {
   "cell_type": "code",
   "execution_count": null,
   "id": "95217446",
   "metadata": {},
   "outputs": [],
   "source": [
    "datamodule.setup(\"test\")\n",
    "datamodule._data_setup = False\n",
    "\n",
    "checkpoint = torch.load(best_model_path)\n",
    "lightning_module.load_state_dict(checkpoint[\"state_dict\"])\n",
    "os.remove(best_model_path)\n",
    "\n",
    "# log final eval metrics\n",
    "trainer.test(lightning_module, datamodule=datamodule)\n",
    "\n",
    "\n",
    "dataloader = datamodule.test_dataloader()\n",
    "avg_predictions = get_predictions(\n",
    "    trainer, lightning_module, dataloader, datamodule.var_names\n",
    ")\n",
    "avg_predictions = avg_predictions.loc[\n",
    "    :, datamodule.train_dataset.adata.var.measured_gene\n",
    "]\n",
    "avg_predictions.to_csv(predictions_file)"
   ]
  },
  {
   "cell_type": "code",
   "execution_count": null,
   "id": "14c05b2c",
   "metadata": {},
   "outputs": [],
   "source": [
    "avg_predictions"
   ]
  }
 ],
 "metadata": {
  "kernelspec": {
   "display_name": "Python 3 (ipykernel)",
   "language": "python",
   "name": "python3"
  },
  "language_info": {
   "codemirror_mode": {
    "name": "ipython",
    "version": 3
   },
   "file_extension": ".py",
   "mimetype": "text/x-python",
   "name": "python",
   "nbconvert_exporter": "python",
   "pygments_lexer": "ipython3",
   "version": "3.11.12"
  }
 },
 "nbformat": 4,
 "nbformat_minor": 5
}
